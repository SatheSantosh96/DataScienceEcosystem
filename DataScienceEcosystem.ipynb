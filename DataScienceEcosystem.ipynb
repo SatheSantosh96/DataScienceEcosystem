{
 "cells": [
  {
   "cell_type": "markdown",
   "id": "0815339a-8d20-4d4e-804b-3a21a4d12bd0",
   "metadata": {},
   "source": [
    "<h1>Data Science Tools and Ecosystem</h1>"
   ]
  },
  {
   "cell_type": "markdown",
   "id": "8c80ac3e-2269-4176-853c-e9376ec4cad1",
   "metadata": {},
   "source": [
    "<h2>Author</h2>\n",
    "Santosh Sathe"
   ]
  },
  {
   "cell_type": "markdown",
   "id": "f3a03164-9343-42f3-8c24-bbbefd6c8a0a",
   "metadata": {},
   "source": [
    "#### In this notebook, Data Science Tools and Ecosystem are summarized."
   ]
  },
  {
   "cell_type": "markdown",
   "id": "30000b6e-86b7-41ae-99ae-5e96801cc1e2",
   "metadata": {},
   "source": [
    "<h4><b> Objectives:</b></h4>\n",
    "<ul>\n",
    "    <li>List popular languages for Data Science</li>\n",
    "    <li>List commonly used libraries used by Data Scientists</li>\n",
    "    <li>Evaluate arithmetic expressions in Python with examples</li>\n",
    "</ul>"
   ]
  },
  {
   "cell_type": "markdown",
   "id": "ec7234dd-89b2-405f-90bc-e82b92bd1e21",
   "metadata": {},
   "source": [
    "#### Some of the popular languages that Data Scientists use are:\n",
    "<ol> \n",
    "    <li> Python </li>\n",
    "    <li> R </li>\n",
    "    <li> SQL </li>\n",
    "</ol>"
   ]
  },
  {
   "cell_type": "markdown",
   "id": "4e7d6999-0dfc-48f4-82ba-04b8097710be",
   "metadata": {},
   "source": [
    "#### Some of the commonly used libraries used by Data Scientists include:\n",
    "<ol> \n",
    "    <li> Numpy </li>\n",
    "    <li> Pandas </li>\n",
    "    <li> Matplotlib </li>\n",
    "</ol>"
   ]
  },
  {
   "cell_type": "markdown",
   "id": "1f21e419-a963-458c-91bc-7a52cee1a129",
   "metadata": {},
   "source": [
    "| Data Science Tools |\n",
    "|--------------------|\n",
    "| Jupyter Notebook   |\n",
    "| RStudio            |\n",
    "| Apache Zeppelin    |\n"
   ]
  },
  {
   "cell_type": "markdown",
   "id": "78aab7bd-d3db-4391-8f14-7e9b7532bfea",
   "metadata": {},
   "source": [
    "<h3>Below are a few examples of evaluating arithmetic expressions in Python</h3>"
   ]
  },
  {
   "cell_type": "code",
   "execution_count": 3,
   "id": "93d38ecd-5e06-49f7-ac04-9e2c9675559f",
   "metadata": {},
   "outputs": [
    {
     "data": {
      "text/plain": [
       "17"
      ]
     },
     "execution_count": 3,
     "metadata": {},
     "output_type": "execute_result"
    }
   ],
   "source": [
    "# This a simple arithmetic expression to mutiply then add integers\n",
    "(3*4)+5"
   ]
  },
  {
   "cell_type": "code",
   "execution_count": 4,
   "id": "4c1477ae-3084-4acf-83d3-165ccfd5c385",
   "metadata": {},
   "outputs": [
    {
     "data": {
      "text/plain": [
       "3.33"
      ]
     },
     "execution_count": 4,
     "metadata": {},
     "output_type": "execute_result"
    }
   ],
   "source": [
    "# This will convert 200 minutes to hours by diving by 60\n",
    "round(200/60, 2)"
   ]
  }
 ],
 "metadata": {
  "kernelspec": {
   "display_name": "Python 3",
   "language": "python",
   "name": "python3"
  },
  "language_info": {
   "codemirror_mode": {
    "name": "ipython",
    "version": 3
   },
   "file_extension": ".py",
   "mimetype": "text/x-python",
   "name": "python",
   "nbconvert_exporter": "python",
   "pygments_lexer": "ipython3",
   "version": "3.12.7"
  }
 },
 "nbformat": 4,
 "nbformat_minor": 5
}
